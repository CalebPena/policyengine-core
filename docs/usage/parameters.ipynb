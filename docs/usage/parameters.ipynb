{
 "cells": [
  {
   "cell_type": "markdown",
   "metadata": {},
   "source": [
    "# Writing parameters\n",
    "\n",
    "**Parameters** are values that can change over time (but are the same for an entire country package, i.e. they can't be different for different entities). The `parameters/` folder of a country package contains the **parameter tree**, a tree of parameter nodes (objects that hold parameters as children) containing parameters or subnodes. A parameter node can be represented either as a folder, or a YAML file. Parameters are stored in parameter files. For example, a parameter tree might have the following structure in a country repo:\n",
    "\n",
    "```{eval-rst}\n",
    ".. code:: none\n",
    "\n",
    "   parameters/\n",
    "   ├── child_benefit/\n",
    "   │   ├── basic.yaml\n",
    "   │   ├── child.yaml\n",
    "   |   ├── family.yaml\n",
    "   │   └── index.yaml # Contains metadata for the child_benefit node.\n",
    "   ├── income_tax/\n",
    "   │   ├── basic.yaml\n",
    "   │   ├── personal.yaml\n",
    "   │   └── thresholds.yaml\n",
    "   ├── national_insurance/\n",
    "   │   ├── basic.yaml\n",
    "   │   ├── employee.yaml\n",
    "   │   └── thresholds.yaml\n",
    "   └── universal_credit/\n",
    "       ├── basic.yaml\n",
    "       ├── child.yaml\n",
    "       └── family.yaml\n",
    "```\n",
    "\n",
    "## Parameter values\n",
    "\n",
    "Parameters are defined as a function of time, and are evaluated at a given instant. To achieve this, parameters must be defined with a **value history**: a set of time-dated values (where the value at a given instant is the last-set value before that instant). For example, the `child_benefit.basic.amount` parameter might have the following value history:\n",
    "\n",
    "```{eval-rst}\n",
    ".. code:: none\n",
    "values:\n",
    "   2019-04-01: 20.00\n",
    "   2019-04-02: 21.00\n",
    "   2019-04-03: 22.00\n",
    "   2019-04-04: 23.00\n",
    "   2019-04-05: 24.00\n",
    "```\n",
    "\n",
    "## Parameter metadata\n",
    "\n",
    "Each parameter (or parameter node) can also set **metadata**: data that describes the parameter, such as its name, description, and units. For example, the `child_benefit.basic.amount` parameter might have the following metadata:\n",
    "\n",
    "```{eval-rst}\n",
    ".. code:: none\n",
    "metadata:\n",
    "    name: child_benefit_basic_amount\n",
    "    label: Child Benefit basic amount\n",
    "    description: The basic amount of Child Benefit, paid to the first child in a family.\n",
    "    unit: currency-GBP\n",
    "    documentation: Any details about the model's implementation, rather than the legal mechanic that it represents.\n",
    "    reference: # A list of reference values.\n",
    "        - label: Child Benefit rates\n",
    "          href: https://www.gov.uk/child-benefit-rates\n",
    "```"
   ]
  }
 ],
 "metadata": {
  "kernelspec": {
   "display_name": "Python 3.9.12 ('base')",
   "language": "python",
   "name": "python3"
  },
  "language_info": {
   "name": "python",
   "version": "3.9.12"
  },
  "orig_nbformat": 4,
  "vscode": {
   "interpreter": {
    "hash": "40d3a090f54c6569ab1632332b64b2c03c39dcf918b08424e98f38b5ae0af88f"
   }
  }
 },
 "nbformat": 4,
 "nbformat_minor": 2
}
